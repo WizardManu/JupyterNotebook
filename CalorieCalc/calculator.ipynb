{
 "cells": [
  {
   "cell_type": "code",
   "execution_count": null,
   "metadata": {
    "scrolled": true
   },
   "outputs": [
    {
     "name": "stdout",
     "output_type": "stream",
     "text": [
      "2021-06-20 2021-06-19\n",
      "True\n"
     ]
    }
   ],
   "source": [
    "import tkinter as tk\n",
    "import tkinter.font as tkFont\n",
    "from time import sleep\n",
    "from datetime import date\n",
    "import pandas as pd\n",
    "\n",
    "\n",
    "def GetCurrentCals(cals_burned_today, cals_eaten_today, write=True):\n",
    "    \"\"\"Takes the two inputs and calculates current cals.\"\"\"\n",
    "\n",
    "    today = str(date.today())\n",
    "    \n",
    "    with open(\"Date.txt\", 'r') as f:\n",
    "        last_day_onfile = f.read()\n",
    "    \n",
    "    newday = True\n",
    "    \n",
    "    if today == last_day_onfile:\n",
    "        newday = False\n",
    "    \n",
    "    \n",
    "    with open(\"demofile2.txt\", \"r\") as f:\n",
    "        currentcals=float(f.read())\n",
    "    \n",
    "    if newday:\n",
    "        if write:\n",
    "            df = pd.read_csv('History.csv')\n",
    "            df2 = pd.DataFrame({\"Calories\":[currentcals], \"Date\":[last_day_onfile]})\n",
    "            df = df.append(df2, ignore_index = True)\n",
    "            df.to_csv(\"History.csv\", index=False, encoding='utf8')\n",
    "        if currentcals > 0:\n",
    "            currentcals = currentcals * 1.12\n",
    "        else:\n",
    "            currentcals = currentcals * 0.925 + 15\n",
    "    \n",
    "    currentcals = currentcals + (cals_eaten_today * 1.04)\n",
    "    currentcals = currentcals - cals_burned_today\n",
    "    currentcals = str(currentcals)\n",
    "\n",
    "    if write:\n",
    "        with open(\"Date.txt\", 'w') as f:\n",
    "            f.write(today)\n",
    "        \n",
    "        with open(\"demofile2.txt\", \"w\") as f:\n",
    "            f.write(currentcals)\n",
    "            \n",
    "    return currentcals\n",
    "\n",
    "\n",
    "def OnButtonPress():\n",
    "    \"\"\"Call on Button Press.\"\"\"\n",
    "\n",
    "    cals_burned_today = int(burn.get())\n",
    "    burn.delete(0, tk.END)\n",
    "    \n",
    "    cals_eaten_today = int(eat.get())\n",
    "    eat.delete(0, tk.END)\n",
    "\n",
    "    currentcals = GetCurrentCals(cals_burned_today, cals_eaten_today)\n",
    "\n",
    "    finaltext[\"text\"] = f\"{currentcals}\"\n",
    "\n",
    "\n",
    "window = tk.Tk()\n",
    "window.title(\"Calorie Computer\")\n",
    "\n",
    "fontStyle = tkFont.Font(family=\"Lucida Grande\", size=17)\n",
    "font2 = tkFont.Font(family=\"Lucida Grande\", size=12)\n",
    "\n",
    "with open(\"demofile2.txt\", \"r\") as f:\n",
    "    currentcals=float(f.read())\n",
    "finaltext = tk.Label(window, text=currentcals,font=fontStyle)\n",
    "finaltext.pack(fill=tk.BOTH, expand=True)\n",
    "\n",
    "calculate = tk.Button(\n",
    "    window,\n",
    "    text=\"Calculate\",\n",
    "    font=font2,\n",
    "    width=10,\n",
    "    height=3,\n",
    "    bg=\"red\",\n",
    "    fg=\"black\",\n",
    "    command= OnButtonPress\n",
    ")\n",
    "\n",
    "calculate.pack(fill=tk.BOTH, expand=True)\n",
    "text1 = tk.Label(window, text=\"How Many Calories Burned?\")\n",
    "text1.pack(fill=tk.BOTH, expand=True)\n",
    "burn = tk.Entry(window, fg=\"black\", bg=\"white\", width=50)\n",
    "burn.pack(fill=tk.BOTH, expand=True)\n",
    "text2 = tk.Label(window, text=\"How Many Calories Eaten?\")\n",
    "text2.pack(fill=tk.BOTH, expand=True)\n",
    "eat = tk.Entry(window, fg=\"black\", bg=\"white\", width=50)\n",
    "eat.pack(fill=tk.BOTH, expand=True)\n",
    "\n",
    "window.mainloop()"
   ]
  },
  {
   "cell_type": "code",
   "execution_count": 42,
   "metadata": {
    "scrolled": true
   },
   "outputs": [
    {
     "name": "stdout",
     "output_type": "stream",
     "text": [
      "              Calories        Date\n",
      "0  -26.520553214524213  2021-06-16\n"
     ]
    }
   ],
   "source": [
    "import pandas as pd\n",
    "df.append(df2)\n",
    "df = pd.read_csv('History.csv')\n",
    "df2 = pd.DataFrame({\"Calories\":[currentcals], \"Date\":[last_day_onfile]})\n",
    "df = df.append(df2, ignore_index = True)\n",
    "df.to_csv(\"History.csv\", index=False, encoding='utf8')"
   ]
  },
  {
   "cell_type": "code",
   "execution_count": null,
   "metadata": {},
   "outputs": [],
   "source": []
  }
 ],
 "metadata": {
  "kernelspec": {
   "display_name": "Python 3",
   "language": "python",
   "name": "python3"
  },
  "language_info": {
   "codemirror_mode": {
    "name": "ipython",
    "version": 3
   },
   "file_extension": ".py",
   "mimetype": "text/x-python",
   "name": "python",
   "nbconvert_exporter": "python",
   "pygments_lexer": "ipython3",
   "version": "3.8.5"
  }
 },
 "nbformat": 4,
 "nbformat_minor": 4
}
