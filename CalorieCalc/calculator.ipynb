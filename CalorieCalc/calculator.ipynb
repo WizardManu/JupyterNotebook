{
 "cells": [
  {
   "cell_type": "code",
   "execution_count": 2,
   "metadata": {},
   "outputs": [],
   "source": [
    "import tkinter as tk\n",
    "import tkinter.font as tkFont\n",
    "from time import sleep\n",
    "from datetime import date\n",
    "\n",
    "\n",
    "def OnButtonPress():\n",
    "    \"\"\"Call on Button Press.\"\"\"\n",
    "\n",
    "    cals_burned_today = int(burn.get())\n",
    "    burn.delete(0, tk.END)\n",
    "    \n",
    "    cals_eaten_today = int(eat.get())\n",
    "    eat.delete(0, tk.END)\n",
    "    \n",
    "    #Takes the two inputs and two files and calculates(no tkinter) \n",
    "    today = str(date.today())\n",
    "\n",
    "    write = True\n",
    "    \n",
    "    with open(\"Date.txt\", 'r') as f:\n",
    "        last_day_onfile = f.read()\n",
    "    with open(\"Date.txt\", 'w') as f:\n",
    "        f.write(today)\n",
    "\n",
    "    newday = today is not last_day_onfile\n",
    "\n",
    "    with open(\"demofile2.txt\", \"r\") as f:\n",
    "        currentcals=float(f.read())\n",
    "    \n",
    "    if newday:\n",
    "        if currentcals > 0:\n",
    "            currentcals = currentcals * 1.12\n",
    "        else:\n",
    "            currentcals = currentcals * 0.925 + 15\n",
    "    \n",
    "    currentcals = currentcals + (cals_eaten_today * 1.04)\n",
    "\n",
    "    currentcals = currentcals - cals_burned_today\n",
    "\n",
    "    currentcals = str(currentcals)\n",
    "    if write:\n",
    "        with open(\"demofile2.txt\", \"w\") as f:\n",
    "            f.write(currentcals)\n",
    " \n",
    "    #end of the non-tkinter part\n",
    "    finaltext[\"text\"] = f\"{currentcals}\"\n",
    "\n",
    "\n",
    "window = tk.Tk()\n",
    "window.title(\"Calorie Computer\")\n",
    "\n",
    "fontStyle = tkFont.Font(family=\"Lucida Grande\", size=17)\n",
    "font2 = tkFont.Font(family=\"Lucida Grande\", size=12)\n",
    "finaltext = tk.Label(window, text=\"Press Button for Number\",font=fontStyle)\n",
    "finaltext.pack(fill=tk.BOTH, expand=True)\n",
    "\n",
    "calculate = tk.Button(\n",
    "    window,\n",
    "    text=\"Calculate\",\n",
    "    font=font2,\n",
    "    width=10,\n",
    "    height=3,\n",
    "    bg=\"red\",\n",
    "    fg=\"yellow\",\n",
    "    command= OnButtonPress\n",
    ")\n",
    "\n",
    "calculate.pack(fill=tk.BOTH, expand=True)\n",
    "text1 = tk.Label(window, text=\"How Many Calories Burned?\")\n",
    "text1.pack(fill=tk.BOTH, expand=True)\n",
    "burn = tk.Entry(window, fg=\"black\", bg=\"white\", width=50)\n",
    "burn.pack(fill=tk.BOTH, expand=True)\n",
    "text2 = tk.Label(window, text=\"How Many Calories Eaten?\")\n",
    "text2.pack(fill=tk.BOTH, expand=True)\n",
    "eat = tk.Entry(window, fg=\"black\", bg=\"white\", width=50)\n",
    "eat.pack(fill=tk.BOTH, expand=True)\n",
    "\n",
    "window.mainloop()"
   ]
  },
  {
   "cell_type": "code",
   "execution_count": null,
   "metadata": {},
   "outputs": [],
   "source": []
  },
  {
   "cell_type": "code",
   "execution_count": 8,
   "metadata": {
    "scrolled": true
   },
   "outputs": [
    {
     "name": "stdout",
     "output_type": "stream",
     "text": [
      "(2, 3)\n",
      "    position  age   name\n",
      "0 -40.671158    0   Manu\n",
      "1  40.000000   24  Vibhu\n"
     ]
    }
   ],
   "source": [
    "import pandas as pd\n",
    "df = pd.read_csv('mydata - Sheet1.csv')\n",
    "print(df.shape)\n",
    "print(df)\n",
    "#for row in df:\n",
    "#    print(row['name'])"
   ]
  },
  {
   "cell_type": "code",
   "execution_count": 15,
   "metadata": {
    "scrolled": true
   },
   "outputs": [
    {
     "name": "stdout",
     "output_type": "stream",
     "text": [
      "d1 = 03/06/2021\n",
      "d2 = June 03, 2021\n",
      "d3 = 06/03/21\n",
      "d4 = Jun-03-2021\n",
      "False\n"
     ]
    }
   ],
   "source": [
    "from datetime import date\n",
    "\n",
    "today = date.today()\n",
    "\n",
    "# dd/mm/YY\n",
    "d1 = today.strftime(\"%d/%m/%Y\")\n",
    "print(\"d1 =\", d1)\n",
    "\n",
    "# Textual month, day and year\t\n",
    "d2 = today.strftime(\"%B %d, %Y\")\n",
    "print(\"d2 =\", d2)\n",
    "\n",
    "# mm/dd/y\n",
    "d3 = today.strftime(\"%m/%d/%y\")\n",
    "print(\"d3 =\", d3)\n",
    "\n",
    "# Month abbreviation, day and year\t\n",
    "d4 = today.strftime(\"%b-%d-%Y\")\n",
    "print(\"d4 =\", d4)\n",
    "\n",
    "print(d3 == d4)"
   ]
  },
  {
   "cell_type": "code",
   "execution_count": 24,
   "metadata": {},
   "outputs": [],
   "source": [
    "import tkinter as tk\n",
    "from time import sleep\n",
    "mi = \"e\"\n",
    "def thecommand():\n",
    "    calsburnedtoday = int(burn.get())\n",
    "    burn.delete(0, tk.END)\n",
    "    \n",
    "    \n",
    "    calseatentoday = int(eat.get())\n",
    "    eat.delete(0, tk.END)\n",
    "    \n",
    "    finaltext[\"text\"] = f\"{final}\"\n",
    "finaltext = tk.Label(text=\"__\")\n",
    "window = tk.Tk()\n",
    "finaltext.pack()\n",
    "calculate = tk.Button(\n",
    "    text=\"BUTTON\",\n",
    "    width=25,\n",
    "    height=5,\n",
    "    bg=\"red\",\n",
    "    fg=\"yellow\",\n",
    "    command=thecommand\n",
    ")\n",
    "calculate.pack()\n",
    "burn = tk.Entry(fg=\"black\", bg=\"white\", width=50)\n",
    "burn.pack(fill=tk.BOTH, expand=True)\n",
    "eat = tk.Entry(fg=\"black\", bg=\"white\", width=50)\n",
    "eat.pack()\n",
    "window.mainloop()"
   ]
  },
  {
   "cell_type": "code",
   "execution_count": null,
   "metadata": {},
   "outputs": [],
   "source": []
  }
 ],
 "metadata": {
  "kernelspec": {
   "display_name": "Python 3",
   "language": "python",
   "name": "python3"
  },
  "language_info": {
   "codemirror_mode": {
    "name": "ipython",
    "version": 3
   },
   "file_extension": ".py",
   "mimetype": "text/x-python",
   "name": "python",
   "nbconvert_exporter": "python",
   "pygments_lexer": "ipython3",
   "version": "3.8.5"
  }
 },
 "nbformat": 4,
 "nbformat_minor": 4
}
